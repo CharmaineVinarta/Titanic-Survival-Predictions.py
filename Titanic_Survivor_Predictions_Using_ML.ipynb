{
 "cells": [
  {
   "cell_type": "code",
   "execution_count": null,
   "id": "e17d71ea",
   "metadata": {},
   "outputs": [],
   "source": [
    "pip show pdpbox\n"
   ]
  },
  {
   "cell_type": "code",
   "execution_count": null,
   "id": "a3fa7ca3",
   "metadata": {},
   "outputs": [],
   "source": [
    "pip install pdpbox==0.2.0\n"
   ]
  },
  {
   "cell_type": "code",
   "execution_count": null,
   "id": "5cd46a94",
   "metadata": {},
   "outputs": [],
   "source": [
    "# Import necessary libraries\n",
    "import numpy as np\n",
    "import pandas as pd\n",
    "import tensorflow as tf\n",
    "import matplotlib.pyplot as plt\n",
    "import seaborn as sns\n",
    "import pdpbox\n",
    "from pdpbox import pdp, get_dataset, info_plots\n",
    "from tensorflow import keras\n",
    "from sklearn.model_selection import train_test_split\n",
    "from sklearn.metrics import classification_report\n"
   ]
  },
  {
   "cell_type": "code",
   "execution_count": null,
   "id": "987571c0",
   "metadata": {},
   "outputs": [],
   "source": [
    "# Read In and Explore the Data\n",
    "train_data = pd.read_csv('train.csv')\n",
    "test_data = pd.read_csv('test.csv')"
   ]
  },
  {
   "cell_type": "code",
   "execution_count": null,
   "id": "209e6942",
   "metadata": {},
   "outputs": [],
   "source": [
    "# Data Analysis\n",
    "print(train_data.info())\n",
    "\n",
    "# Display summary statistics for numerical features\n",
    "print(train_data.describe())\n",
    "\n",
    "# Display the first few rows of the data\n",
    "print(train_data.head())"
   ]
  },
  {
   "cell_type": "code",
   "execution_count": null,
   "id": "7c6bf64e",
   "metadata": {},
   "outputs": [],
   "source": [
    "# Data Visualization\n",
    "# Visualize survival by gender\n",
    "plt.figure(figsize=(8, 6))\n",
    "sns.countplot(x='Sex', hue='Survived', data=train_data)\n",
    "plt.title('Survival by Gender')\n",
    "plt.xlabel('Gender')\n",
    "plt.ylabel('Count')\n",
    "plt.legend(title='Survived', labels=['No', 'Yes'])\n",
    "plt.show()\n",
    "\n",
    "# Visualize survival by passenger class (Pclass)\n",
    "plt.figure(figsize=(8, 6))\n",
    "sns.countplot(x='Pclass', hue='Survived', data=train_data)\n",
    "plt.title('Survival by Passenger Class')\n",
    "plt.xlabel('Pclass')\n",
    "plt.ylabel('Count')\n",
    "plt.legend(title='Survived', labels=['No', 'Yes'])\n",
    "plt.show()\n",
    "\n",
    "# Visualize survival by age\n",
    "plt.figure(figsize=(8, 6))\n",
    "sns.histplot(data=train_data, x='Age', hue='Survived', kde=True)\n",
    "plt.title('Survival by Age')\n",
    "plt.xlabel('Age')\n",
    "plt.ylabel('Count')\n",
    "plt.legend(title='Survived', labels=['No', 'Yes'])\n",
    "plt.show()\n",
    "\n",
    "# Visualize survival by the number of siblings/spouses (SibSp)\n",
    "plt.figure(figsize=(8, 6))\n",
    "sns.countplot(x='SibSp', hue='Survived', data=train_data)\n",
    "plt.title('Survival by Siblings/Spouses')\n",
    "plt.xlabel('SibSp')\n",
    "plt.ylabel('Count')\n",
    "plt.legend(title='Survived', labels=['No', 'Yes'])\n",
    "plt.show()\n",
    "\n",
    "# Visualize survival by the number of parents/children (Parch)\n",
    "plt.figure(figsize=(8, 6))\n",
    "sns.countplot(x='Parch', hue='Survived', data=train_data)\n",
    "plt.title('Survival by Parents/Children')\n",
    "plt.xlabel('Parch')\n",
    "plt.ylabel('Count')\n",
    "plt.legend(title='Survived', labels=['No', 'Yes'])\n",
    "plt.show()\n",
    "\n"
   ]
  },
  {
   "cell_type": "code",
   "execution_count": null,
   "id": "a44929a3",
   "metadata": {},
   "outputs": [],
   "source": [
    "# Cleaning Data\n",
    "# Fill missing values in the 'Age' column with the median\n",
    "train_data['Age'].fillna(train_data['Age'].median(), inplace=True)\n",
    "test_data['Age'].fillna(test_data['Age'].median(), inplace=True)"
   ]
  },
  {
   "cell_type": "code",
   "execution_count": null,
   "id": "304f2809",
   "metadata": {},
   "outputs": [],
   "source": [
    "# One-hot encode the 'Sex' column for both train and test data\n",
    "train_data = pd.get_dummies(train_data, columns=['Sex'], prefix=['Sex'])\n",
    "test_data = pd.get_dummies(test_data, columns=['Sex'], prefix=['Sex'])\n"
   ]
  },
  {
   "cell_type": "code",
   "execution_count": null,
   "id": "a2609a2f",
   "metadata": {},
   "outputs": [],
   "source": [
    "# Features to include\n",
    "features = ['Pclass', 'SibSp', 'Parch', 'Age']"
   ]
  },
  {
   "cell_type": "code",
   "execution_count": null,
   "id": "ec120dd4",
   "metadata": {},
   "outputs": [],
   "source": [
    "# Define features and target variable\n",
    "X = train_data[features]\n",
    "y = train_data['Survived']"
   ]
  },
  {
   "cell_type": "code",
   "execution_count": null,
   "id": "74d1fa03",
   "metadata": {},
   "outputs": [],
   "source": [
    "# Split the data into training and validation sets\n",
    "X_train, X_val, y_train, y_val = train_test_split(X, y, test_size=0.2, random_state=42)\n"
   ]
  },
  {
   "cell_type": "code",
   "execution_count": null,
   "id": "91bca767",
   "metadata": {},
   "outputs": [],
   "source": [
    "# Define the neural network model\n",
    "model = keras.Sequential([\n",
    "    keras.layers.Input(shape=(X_train.shape[1],)),  # Input layer with the correct shape\n",
    "    keras.layers.Dense(4, activation='relu'),  # Hidden layer with 64 units and ReLU activation\n",
    "    keras.layers.Dense(32, activation='relu'),  # Additional hidden layer (optional)\n",
    "    keras.layers.Dense(1, activation='sigmoid')  # Output layer for binary classification\n",
    "])"
   ]
  },
  {
   "cell_type": "code",
   "execution_count": null,
   "id": "1094e30f",
   "metadata": {},
   "outputs": [],
   "source": [
    "# Compile the model\n",
    "model.compile(optimizer='adam', loss='binary_crossentropy', metrics=['accuracy'])\n"
   ]
  },
  {
   "cell_type": "code",
   "execution_count": null,
   "id": "0edc291e",
   "metadata": {},
   "outputs": [],
   "source": [
    "# Train the model\n",
    "history = model.fit(X_train, y_train, epochs=50, batch_size=32, validation_data=(X_val, y_val))\n"
   ]
  },
  {
   "cell_type": "code",
   "execution_count": null,
   "id": "df9982e8",
   "metadata": {},
   "outputs": [],
   "source": [
    "# Create partial dependence plots\n",
    "# 'Age' partial dependence plot\n",
    "age_pdp = pdp.pdp_isolate(model=model, dataset=X_val, model_features=X_val.columns, feature='Age')\n",
    "pdp.pdp_plot(age_pdp, 'Age')\n",
    "plt.show()"
   ]
  },
  {
   "cell_type": "code",
   "execution_count": null,
   "id": "68acd2e3",
   "metadata": {},
   "outputs": [],
   "source": [
    "# 'Pclass' partial dependence plot\n",
    "pclass_pdp = pdp.pdp_isolate(model=model, dataset=X_val, model_features=X_val.columns, feature='Pclass')\n",
    "pdp.pdp_plot(pclass_pdp, 'Pclass')\n",
    "plt.show()"
   ]
  },
  {
   "cell_type": "code",
   "execution_count": null,
   "id": "f8194307",
   "metadata": {},
   "outputs": [],
   "source": [
    "# Get the weights of the first hidden layer\n",
    "first_hidden_layer_weights = model.layers[1].get_weights()[0]\n",
    "\n",
    "# Calculate feature importance based on the weights\n",
    "feature_importance = np.mean(np.abs(first_hidden_layer_weights), axis=1)\n",
    "\n",
    "# Get the feature names\n",
    "feature_names = X.columns\n",
    "\n",
    "# Sort and print feature importance\n",
    "sorted_feature_importance = pd.Series(feature_importance, index=feature_names).sort_values(ascending=False)\n",
    "print(\"Feature Importance:\")\n",
    "print(sorted_feature_importance)\n"
   ]
  },
  {
   "cell_type": "code",
   "execution_count": null,
   "id": "fe16cb6c",
   "metadata": {},
   "outputs": [],
   "source": [
    "# Plot training history (optional)\n",
    "plt.figure(figsize=(10, 6))\n",
    "plt.plot(history.history['accuracy'], label='Train Accuracy')\n",
    "plt.plot(history.history['val_accuracy'], label='Validation Accuracy')\n",
    "plt.title('Training History')\n",
    "plt.xlabel('Epochs')\n",
    "plt.ylabel('Accuracy')\n",
    "plt.legend()\n",
    "plt.show()"
   ]
  },
  {
   "cell_type": "code",
   "execution_count": null,
   "id": "c5f8a3a3",
   "metadata": {},
   "outputs": [],
   "source": [
    "y_pred = model.predict(X_val)  # Replace X_val with your validation set features\n",
    "y_pred_binary = (y_pred >= 0.5).astype(int)  # Convert probabilities to binary predictions\n",
    "report = classification_report(y_val, y_pred_binary)\n",
    "print(report)\n"
   ]
  },
  {
   "cell_type": "code",
   "execution_count": null,
   "id": "34538ca7",
   "metadata": {},
   "outputs": [],
   "source": [
    "# Make predictions on the test data\n",
    "X_test = test_data[features]  # Assuming you have already defined 'features' for the test data\n",
    "y_test_pred = model.predict(X_test)\n",
    "y_test_pred_binary = (y_test_pred >= 0.5).astype(int)"
   ]
  },
  {
   "cell_type": "code",
   "execution_count": null,
   "id": "c9d2ea40",
   "metadata": {},
   "outputs": [],
   "source": [
    "# Compare the model's predictions to the actual values\n",
    "comparison = pd.DataFrame({'Actual': y_val, 'Predicted': y_pred_binary.ravel()})\n"
   ]
  },
  {
   "cell_type": "code",
   "execution_count": null,
   "id": "36acadca",
   "metadata": {},
   "outputs": [],
   "source": [
    "# Analyze the factors contributing to correct or incorrect predictions\n",
    "correct_predictions = comparison[comparison['Actual'] == comparison['Predicted']]\n",
    "incorrect_predictions = comparison[comparison['Actual'] != comparison['Predicted']]\n"
   ]
  },
  {
   "cell_type": "code",
   "execution_count": null,
   "id": "ac5e250c",
   "metadata": {},
   "outputs": [],
   "source": [
    "# Create a DataFrame with PassengerId and Survived columns\n",
    "submission = pd.DataFrame({\n",
    "    \"PassengerId\": test_data[\"PassengerId\"],\n",
    "    \"Survived\": y_test_pred_binary.ravel()  # Reshape to 1D array\n",
    "})\n"
   ]
  },
  {
   "cell_type": "code",
   "execution_count": null,
   "id": "9a6837f5",
   "metadata": {},
   "outputs": [],
   "source": [
    "# Save the DataFrame to a CSV file\n",
    "submission.to_csv(\"titanic_submission.csv\", index=False)"
   ]
  },
  {
   "cell_type": "code",
   "execution_count": null,
   "id": "a82e37c8",
   "metadata": {},
   "outputs": [],
   "source": []
  }
 ],
 "metadata": {
  "kernelspec": {
   "display_name": "Python 3 (ipykernel)",
   "language": "python",
   "name": "python3"
  },
  "language_info": {
   "codemirror_mode": {
    "name": "ipython",
    "version": 3
   },
   "file_extension": ".py",
   "mimetype": "text/x-python",
   "name": "python",
   "nbconvert_exporter": "python",
   "pygments_lexer": "ipython3",
   "version": "3.11.4"
  }
 },
 "nbformat": 4,
 "nbformat_minor": 5
}
